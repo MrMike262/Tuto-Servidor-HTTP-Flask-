{
 "cells": [
  {
   "cell_type": "markdown",
   "metadata": {},
   "source": [
    "Montar servidor HTTP usando flask y MySQL"
   ]
  },
  {
   "cell_type": "code",
   "execution_count": null,
   "metadata": {},
   "outputs": [],
   "source": [
    "sudo apt-get update"
   ]
  },
  {
   "cell_type": "code",
   "execution_count": null,
   "metadata": {},
   "outputs": [],
   "source": [
    "sudo apt-get install mysql-server"
   ]
  },
  {
   "cell_type": "code",
   "execution_count": null,
   "metadata": {},
   "outputs": [],
   "source": [
    "sudo systemctl start mysql"
   ]
  },
  {
   "cell_type": "code",
   "execution_count": null,
   "metadata": {},
   "outputs": [],
   "source": [
    "sudo systemctl enable mysql"
   ]
  },
  {
   "cell_type": "markdown",
   "metadata": {},
   "source": [
    "Acceder a MySQL como usuario root"
   ]
  },
  {
   "cell_type": "code",
   "execution_count": null,
   "metadata": {},
   "outputs": [],
   "source": [
    "sudo mysql -u root -p"
   ]
  },
  {
   "cell_type": "markdown",
   "metadata": {},
   "source": [
    "Crear Base de Datos, usarla y crear Tabla"
   ]
  },
  {
   "cell_type": "code",
   "execution_count": null,
   "metadata": {},
   "outputs": [],
   "source": [
    "CREATE DATABASE emqx_data CHARACTER SET utf8mb4;"
   ]
  },
  {
   "cell_type": "code",
   "execution_count": null,
   "metadata": {},
   "outputs": [],
   "source": [
    "USE emqx_data;"
   ]
  },
  {
   "cell_type": "code",
   "execution_count": null,
   "metadata": {},
   "outputs": [],
   "source": [
    "CREATE TABLE luces_iot (\n",
    "  id INT AUTO_INCREMENT PRIMARY KEY,\n",
    "  dispositivo_id VARCHAR(255),\n",
    "  estado VARCHAR(255),\n",
    "  marca_tiempo TIMESTAMP DEFAULT CURRENT_TIMESTAMP\n",
    ");"
   ]
  },
  {
   "cell_type": "markdown",
   "metadata": {},
   "source": [
    "Crear usuario para usar bd"
   ]
  },
  {
   "cell_type": "code",
   "execution_count": null,
   "metadata": {},
   "outputs": [],
   "source": [
    "CREATE USER 'alumno'@'localhost' IDENTIFIED BY 'querty';"
   ]
  },
  {
   "cell_type": "code",
   "execution_count": null,
   "metadata": {},
   "outputs": [],
   "source": [
    "GRANT ALL PRIVILEGES ON emqx_data.* TO 'alumno'@'localhost';"
   ]
  },
  {
   "cell_type": "code",
   "execution_count": null,
   "metadata": {},
   "outputs": [],
   "source": [
    "FLUSH PRIVILEGES;"
   ]
  },
  {
   "cell_type": "markdown",
   "metadata": {},
   "source": [
    "Instalar python y flask"
   ]
  },
  {
   "cell_type": "code",
   "execution_count": null,
   "metadata": {},
   "outputs": [],
   "source": [
    "sudo apt install python3"
   ]
  },
  {
   "cell_type": "code",
   "execution_count": null,
   "metadata": {},
   "outputs": [],
   "source": [
    "pip install flask"
   ]
  },
  {
   "cell_type": "code",
   "execution_count": null,
   "metadata": {},
   "outputs": [],
   "source": [
    "pip install mysql-connector-python"
   ]
  },
  {
   "cell_type": "markdown",
   "metadata": {},
   "source": [
    "Crear carpeta y archivo para servidor"
   ]
  },
  {
   "cell_type": "code",
   "execution_count": null,
   "metadata": {},
   "outputs": [],
   "source": [
    "cd http_server"
   ]
  },
  {
   "cell_type": "code",
   "execution_count": null,
   "metadata": {},
   "outputs": [],
   "source": [
    "touch http_server.py"
   ]
  },
  {
   "cell_type": "code",
   "execution_count": null,
   "metadata": {},
   "outputs": [],
   "source": [
    "nano http_server.py"
   ]
  },
  {
   "cell_type": "code",
   "execution_count": null,
   "metadata": {},
   "outputs": [],
   "source": [
    "En el editor nano se necesita poner el código que configura el servidor, es el siguiente:"
   ]
  },
  {
   "cell_type": "code",
   "execution_count": null,
   "metadata": {},
   "outputs": [],
   "source": [
    "import mysql.connector\n",
    "from flask import Flask, json, request\n",
    "\n",
    "api = Flask(__name__)\n",
    "\n",
    "# Establece la conexión a tu base de datos MySQL\n",
    "db_connection = mysql.connector.connect(\n",
    "    host=\"localhost\",\n",
    "    user=\"alumno\",\n",
    "    password=\"querty\",\n",
    "    database=\"emqx_data\"\n",
    ")\n",
    "\n",
    "@api.route('/', methods=['POST'])\n",
    "def print_messages():\n",
    "    reply = {\"result\": \"ok\", \"message\": \"success\"}\n",
    "    data = request.get_data().decode('utf-8')\n",
    "    print(\"got post request: \", data)\n",
    "\n",
    "    # Convierte la cadena JSON a un objeto Python\n",
    "    json_data = json.loads(data)\n",
    "\n",
    "    # Inserta los datos en la tabla \"luces_iot\" en la base de datos \"emqx_data\"\n",
    "    cursor = db_connection.cursor()\n",
    "    query = \"INSERT INTO luces_iot (dispositivo_id, estado) VALUES (%s, %s)\"\n",
    "    values = (json_data[\"dispositivo_id\"], json_data[\"estado\"])\n",
    "    cursor.execute(query, values)\n",
    "    db_connection.commit()\n",
    "    cursor.close()\n",
    "\n",
    "    return json.dumps(reply), 200\n",
    "\n",
    "@api.route('/consultar', methods=['GET'])\n",
    "def consultar_bd():\n",
    "    cursor = db_connection.cursor(dictionary=True)\n",
    "    query = \"SELECT * FROM luces_iot\"\n",
    "    cursor.execute(query)\n",
    "    result = cursor.fetchall()\n",
    "    cursor.close()\n",
    "\n",
    "    return json.dumps(result), 200\n",
    "\n",
    "if __name__ == '__main__':\n",
    "    api.run(host='0.0.0.0', port=5000)\n"
   ]
  },
  {
   "cell_type": "markdown",
   "metadata": {},
   "source": [
    "Salir con ctrl + x y guardar cambios\n",
    "Luego ejecutar el siguiende comando para iniciar el servidor"
   ]
  },
  {
   "cell_type": "code",
   "execution_count": null,
   "metadata": {},
   "outputs": [],
   "source": [
    "python3 http_server.py"
   ]
  },
  {
   "cell_type": "markdown",
   "metadata": {},
   "source": [
    "Probar con postman y Hacer data bridge"
   ]
  },
  {
   "cell_type": "markdown",
   "metadata": {},
   "source": [
    "Ejemplo de json para el data bridge"
   ]
  },
  {
   "cell_type": "code",
   "execution_count": null,
   "metadata": {},
   "outputs": [],
   "source": [
    "{\n",
    "    \"dispositivo_id\": \"led1\",\n",
    "    \"estado\": \"rojo\"\n",
    "}"
   ]
  },
  {
   "cell_type": "markdown",
   "metadata": {},
   "source": [
    "Ejemplo de la sentencia para la regla"
   ]
  },
  {
   "cell_type": "code",
   "execution_count": null,
   "metadata": {},
   "outputs": [],
   "source": [
    "SELECT * FROM \"led\" WHERE payload = 'rojo'"
   ]
  }
 ],
 "metadata": {
  "language_info": {
   "name": "python"
  }
 },
 "nbformat": 4,
 "nbformat_minor": 2
}
